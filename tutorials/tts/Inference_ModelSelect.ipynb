{
 "cells": [
  {
   "cell_type": "markdown",
   "metadata": {},
   "source": [
    "# TTS Inference Model Selection\n",
    "\n",
    "This notebook can be used to generate audio samples using either NeMo's pretrained models or after training NeMo TTS models. This notebook supports all TTS models and is intended to showcase different models and how their results differ."
   ]
  },
  {
   "cell_type": "markdown",
   "metadata": {},
   "source": [
    "# License\n",
    "\n",
    "> Copyright 2020 NVIDIA. All Rights Reserved.\n",
    "> \n",
    "> Licensed under the Apache License, Version 2.0 (the \"License\");\n",
    "> you may not use this file except in compliance with the License.\n",
    "> You may obtain a copy of the License at\n",
    "> \n",
    ">     http://www.apache.org/licenses/LICENSE-2.0\n",
    "> \n",
    "> Unless required by applicable law or agreed to in writing, software\n",
    "> distributed under the License is distributed on an \"AS IS\" BASIS,\n",
    "> WITHOUT WARRANTIES OR CONDITIONS OF ANY KIND, either express or implied.\n",
    "> See the License for the specific language governing permissions and\n",
    "> limitations under the License."
   ]
  },
  {
   "cell_type": "code",
   "execution_count": null,
   "metadata": {
    "tags": []
   },
   "outputs": [],
   "source": [
    "\"\"\"\n",
    "You can either run this notebook locally (if you have all the dependencies and a GPU) or on Google Colab.\n",
    "Instructions for setting up Colab are as follows:\n",
    "1. Open a new Python 3 notebook.\n",
    "2. Import this notebook from GitHub (File -> Upload Notebook -> \"GITHUB\" tab -> copy/paste GitHub URL)\n",
    "3. Connect to an instance with a GPU (Runtime -> Change runtime type -> select \"GPU\" for hardware accelerator)\n",
    "4. Run this cell to set up dependencies.\n",
    "\"\"\"\n",
    "# # If you're using Google Colab and not running locally, uncomment and run this cell.\n",
    "# !apt-get install sox libsndfile1 ffmpeg\n",
    "# !pip install wget unidecode\n",
    "# BRANCH = 'main'\n",
    "# !python -m pip install git+https://github.com/NVIDIA/NeMo.git@$BRANCH#egg=nemo_toolkit[tts]"
   ]
  },
  {
   "cell_type": "markdown",
   "metadata": {},
   "source": [
    "## Models\n",
    "\n",
    "First we pick the models that we want to use. Currently supported models are:\n",
    "\n",
    "End-to-End Models:\n",
    "- [FastPitch_HifiGan_E2E](https://ngc.nvidia.com/catalog/models/nvidia:nemo:tts_en_e2e_fastpitchhifigan)\n",
    "- [FastSpeech2_HifiGan_E2E](https://ngc.nvidia.com/catalog/models/nvidia:nemo:tts_en_e2e_fastspeech2hifigan)\n",
    "\n",
    "Spectrogram Generators:\n",
    "- [Tacotron 2](https://ngc.nvidia.com/catalog/models/nvidia:nemo:tts_en_tacotron2)\n",
    "- [Glow-TTS](https://ngc.nvidia.com/catalog/models/nvidia:nemo:tts_en_glowtts)\n",
    "- [TalkNet](https://ngc.nvidia.com/catalog/models/nvidia:nemo:tts_en_talknet)\n",
    "- [FastPitch](https://ngc.nvidia.com/catalog/models/nvidia:nemo:tts_en_fastpitch)\n",
    "- [FastSpeech2](https://ngc.nvidia.com/catalog/models/nvidia:nemo:tts_en_fastspeech_2)\n",
    "- [Mixer-TTS](https://ngc.nvidia.com/catalog/models/nvidia:nemo:tts_en_lj_mixertts)\n",
    "- [Mixer-TTS-X](https://ngc.nvidia.com/catalog/models/nvidia:nemo:tts_en_lj_mixerttsx)\n",
    "\n",
    "Audio Generators\n",
    "- [WaveGlow](https://ngc.nvidia.com/catalog/models/nvidia:nemo:tts_waveglow_88m)\n",
    "- [SqueezeWave](https://ngc.nvidia.com/catalog/models/nvidia:nemo:tts_squeezewave)\n",
    "- [UniGlow](https://ngc.nvidia.com/catalog/models/nvidia:nemo:tts_uniglow)\n",
    "- [MelGAN](https://ngc.nvidia.com/catalog/models/nvidia:nemo:tts_melgan)\n",
    "- [HiFiGAN](https://ngc.nvidia.com/catalog/models/nvidia:nemo:tts_hifigan)\n",
    "- [UnivNet](https://ngc.nvidia.com/catalog/models/nvidia:nemo:tts_en_lj_univnet)\n",
    "- Griffin-Lim"
   ]
  },
  {
   "cell_type": "code",
   "execution_count": null,
   "metadata": {
    "tags": []
   },
   "outputs": [],
   "source": [
    "from ipywidgets import Select, HBox, Label\n",
    "from IPython.display import display\n",
    "\n",
    "supported_e2e = [\"fastpitch_hifigan\", \"fastspeech2_hifigan\", None]\n",
    "supported_spec_gen = [\"tacotron2\", \"glow_tts\", \"talknet\", \"fastpitch\", \"fastspeech2\", \"mixertts\", \"mixerttsx\", None]\n",
    "supported_audio_gen = [\"waveglow\", \"squeezewave\", \"uniglow\", \"melgan\", \"hifigan\", \"univnet\", \"griffin-lim\", None]\n",
    "\n",
    "print(\"Select the model(s) that you want to use. Please choose either 1 end-to-end model or 1 spectrogram generator and 1 vocoder.\")\n",
    "e2e_selector = Select(options=supported_e2e, value=None)\n",
    "spectrogram_generator_selector = Select(options=supported_spec_gen, value=None)\n",
    "audio_generator_selector = Select(options=supported_audio_gen, value=None)\n",
    "display(HBox([e2e_selector, Label(\"OR\"), spectrogram_generator_selector, Label(\"+\"), audio_generator_selector]))"
   ]
  },
  {
   "cell_type": "code",
   "execution_count": null,
   "metadata": {},
   "outputs": [],
   "source": [
    "e2e_model = e2e_selector.value\n",
    "spectrogram_generator = spectrogram_generator_selector.value\n",
    "audio_generator = audio_generator_selector.value\n",
    "\n",
    "if e2e_model is None and spectrogram_generator is None and audio_generator is None:\n",
    "    raise ValueError(\"No models were chosen. Please return to the previous step and choose either 1 end-to-end model or 1 spectrogram generator and 1 vocoder.\")\n",
    "\n",
    "if e2e_model and (spectrogram_generator or audio_generator):\n",
    "    raise ValueError(\n",
    "        \"An end-to-end model was chosen and either a spectrogram generator or a vocoder was also selected. For end-to-end models, please select `None` \"\n",
    "        \"in the second and third column to continue. For the two step pipeline, please select `None` in the first column to continue.\"\n",
    "    )\n",
    "\n",
    "if (spectrogram_generator and audio_generator is None) or (audio_generator and spectrogram_generator is None):\n",
    "    raise ValueError(\"In order to continue with the two step pipeline, both the spectrogram generator and the audio generator must be chosen, but one was `None`\")\n",
    "    "
   ]
  },
  {
   "cell_type": "markdown",
   "metadata": {},
   "source": [
    "## Load model checkpoints\n",
    "\n",
    "Next we load the pretrained model provided by NeMo. All NeMo models have two functions to help with this\n",
    "\n",
    "- list_available_models(): This function will return a list of all pretrained checkpoints for that model\n",
    "- from_pretrained(): This function will download the pretrained checkpoint, load it, and return an instance of the model\n",
    "\n",
    "Below we will use `from_pretrained` to load the chosen models from above."
   ]
  },
  {
   "cell_type": "code",
   "execution_count": 2,
   "metadata": {},
   "outputs": [],
   "source": [
    "e2e_model = None\n",
    "spectrogram_generator = \"tacotron2\"\n",
    "audio_generator = \"waveglow\""
   ]
  },
  {
   "cell_type": "code",
   "execution_count": 3,
   "metadata": {
    "tags": []
   },
   "outputs": [
    {
     "name": "stdout",
     "output_type": "stream",
     "text": [
      "[NeMo I 2022-02-04 10:08:24 cloud:66] Downloading from: https://api.ngc.nvidia.com/v2/models/nvidia/nemo/tts_en_tacotron2/versions/1.0.0/files/tts_en_tacotron2.nemo to /root/.cache/torch/NeMo/NeMo_1.6.0/tts_en_tacotron2/74d819609f47744063679b44e93a47f1/tts_en_tacotron2.nemo\n",
      "100% [......................................................................] 105207119 / 105207119[NeMo I 2022-02-04 10:08:30 common:729] Instantiating model from pre-trained checkpoint\n"
     ]
    },
    {
     "name": "stderr",
     "output_type": "stream",
     "text": [
      "[NeMo W 2022-02-04 10:08:32 modelPT:135] If you intend to do training or fine-tuning, please call the ModelPT.setup_training_data() method and provide a valid configuration file to setup the train data loader.\n",
      "    Train config : \n",
      "    dataset:\n",
      "      _target_: nemo.collections.asr.data.audio_to_text.AudioToCharDataset\n",
      "      manifest_filepath: /raid/LJSpeech/nvidia_ljspeech_train.json\n",
      "      max_duration: null\n",
      "      min_duration: 0.1\n",
      "      trim: false\n",
      "      int_values: false\n",
      "      load_audio: true\n",
      "      normalize: true\n",
      "      sample_rate: 22050\n",
      "    dataloader_params:\n",
      "      drop_last: false\n",
      "      shuffle: true\n",
      "      batch_size: 48\n",
      "      num_workers: 4\n",
      "    \n",
      "[NeMo W 2022-02-04 10:08:32 modelPT:142] If you intend to do validation, please call the ModelPT.setup_validation_data() or ModelPT.setup_multiple_validation_data() method and provide a valid configuration file to setup the validation data loader(s). \n",
      "    Validation config : \n",
      "    dataset:\n",
      "      _target_: nemo.collections.asr.data.audio_to_text.AudioToCharDataset\n",
      "      manifest_filepath: /raid/LJSpeech/nvidia_ljspeech_val.json\n",
      "      max_duration: null\n",
      "      min_duration: 0.1\n",
      "      int_values: false\n",
      "      load_audio: true\n",
      "      normalize: true\n",
      "      sample_rate: 22050\n",
      "      trim: false\n",
      "    dataloader_params:\n",
      "      drop_last: false\n",
      "      shuffle: false\n",
      "      batch_size: 48\n",
      "      num_workers: 8\n",
      "    \n"
     ]
    },
    {
     "name": "stdout",
     "output_type": "stream",
     "text": [
      "[NeMo I 2022-02-04 10:08:32 features:264] PADDING: 16\n",
      "[NeMo I 2022-02-04 10:08:32 features:281] STFT using torch\n",
      "[NeMo I 2022-02-04 10:08:35 save_restore_connector:154] Model Tacotron2Model was successfully restored from /root/.cache/torch/NeMo/NeMo_1.6.0/tts_en_tacotron2/74d819609f47744063679b44e93a47f1/tts_en_tacotron2.nemo.\n",
      "[NeMo I 2022-02-04 10:08:35 cloud:56] Found existing object /root/.cache/torch/NeMo/NeMo_1.6.0/tts_waveglow/be8c69c04450b3da0ce5a38a8ef4014f/tts_waveglow.nemo.\n",
      "[NeMo I 2022-02-04 10:08:35 cloud:62] Re-using file from: /root/.cache/torch/NeMo/NeMo_1.6.0/tts_waveglow/be8c69c04450b3da0ce5a38a8ef4014f/tts_waveglow.nemo\n",
      "[NeMo I 2022-02-04 10:08:35 common:729] Instantiating model from pre-trained checkpoint\n"
     ]
    },
    {
     "name": "stderr",
     "output_type": "stream",
     "text": [
      "[NeMo W 2022-02-04 10:08:39 modelPT:135] If you intend to do training or fine-tuning, please call the ModelPT.setup_training_data() method and provide a valid configuration file to setup the train data loader.\n",
      "    Train config : \n",
      "    dataset:\n",
      "      _target_: nemo.collections.tts.data.datalayers.AudioDataset\n",
      "      manifest_filepath: /raid/LJSpeech/nvidia_ljspeech_train.json\n",
      "      max_duration: null\n",
      "      min_duration: 0.1\n",
      "      n_segments: 16000\n",
      "      trim: false\n",
      "    dataloader_params:\n",
      "      drop_last: false\n",
      "      shuffle: true\n",
      "      batch_size: 12\n",
      "      num_workers: 4\n",
      "    \n",
      "[NeMo W 2022-02-04 10:08:39 modelPT:142] If you intend to do validation, please call the ModelPT.setup_validation_data() or ModelPT.setup_multiple_validation_data() method and provide a valid configuration file to setup the validation data loader(s). \n",
      "    Validation config : \n",
      "    dataset:\n",
      "      _target_: nemo.collections.tts.data.datalayers.AudioDataset\n",
      "      manifest_filepath: /raid/LJSpeech/nvidia_ljspeech_val.json\n",
      "      max_duration: null\n",
      "      min_duration: 0.1\n",
      "      n_segments: -1\n",
      "      trim: false\n",
      "    dataloader_params:\n",
      "      drop_last: false\n",
      "      shuffle: false\n",
      "      batch_size: 8\n",
      "      num_workers: 4\n",
      "    \n"
     ]
    },
    {
     "name": "stdout",
     "output_type": "stream",
     "text": [
      "[NeMo I 2022-02-04 10:08:39 features:264] PADDING: 16\n",
      "[NeMo I 2022-02-04 10:08:39 features:281] STFT using torch\n"
     ]
    },
    {
     "name": "stderr",
     "output_type": "stream",
     "text": [
      "[NeMo W 2022-02-04 10:08:39 nemo_logging:349] /akshita/NeMo/nemo/collections/tts/modules/submodules.py:193: UserWarning: torch.qr is deprecated in favor of torch.linalg.qr and will be removed in a future PyTorch release.\n",
      "    The boolean parameter 'some' has been replaced with a string parameter 'mode'.\n",
      "    Q, R = torch.qr(A, some)\n",
      "    should be replaced with\n",
      "    Q, R = torch.linalg.qr(A, 'reduced' if some else 'complete') (Triggered internally at  /opt/pytorch/pytorch/aten/src/ATen/native/BatchLinearAlgebra.cpp:1931.)\n",
      "      W = torch.qr(torch.FloatTensor(c, c).normal_())[0]\n",
      "    \n"
     ]
    },
    {
     "name": "stdout",
     "output_type": "stream",
     "text": [
      "[NeMo I 2022-02-04 10:08:41 save_restore_connector:154] Model WaveGlowModel was successfully restored from /root/.cache/torch/NeMo/NeMo_1.6.0/tts_waveglow/be8c69c04450b3da0ce5a38a8ef4014f/tts_waveglow.nemo.\n"
     ]
    }
   ],
   "source": [
    "from omegaconf import OmegaConf, open_dict\n",
    "import torch\n",
    "from nemo.collections.tts.models.base import SpectrogramGenerator, Vocoder, TextToWaveform\n",
    "\n",
    "\n",
    "def load_spectrogram_model():\n",
    "    override_conf = None\n",
    "    if spectrogram_generator == \"tacotron2\":\n",
    "        from nemo.collections.tts.models import Tacotron2Model\n",
    "        pretrained_model = \"tts_en_tacotron2\"\n",
    "        SpectrogramGenerator = Tacotron2Model\n",
    "    elif spectrogram_generator == \"glow_tts\":\n",
    "        from nemo.collections.tts.models import GlowTTSModel\n",
    "        pretrained_model = \"tts_en_glowtts\"\n",
    "        import wget\n",
    "        from pathlib import Path\n",
    "        if not Path(\"cmudict-0.7b\").exists():\n",
    "            filename = wget.download(\"http://svn.code.sf.net/p/cmusphinx/code/trunk/cmudict/cmudict-0.7b\")\n",
    "            filename = str(Path(filename).resolve())\n",
    "        else:\n",
    "            filename = str(Path(\"cmudict-0.7b\").resolve())\n",
    "        conf = SpectrogramGenerator.from_pretrained(pretrained_model, return_config=True)\n",
    "        if \"params\" in conf.parser:\n",
    "            conf.parser.params.cmu_dict_path = filename\n",
    "        else:\n",
    "            conf.parser.cmu_dict_path = filename\n",
    "        override_conf = conf\n",
    "    elif spectrogram_generator == \"talknet\":\n",
    "        from nemo.collections.tts.models import TalkNetSpectModel\n",
    "        pretrained_model = \"tts_en_talknet\"\n",
    "        SpectrogramGenerator = TalkNetSpectModel\n",
    "    elif spectrogram_generator == \"fastpitch\":\n",
    "        from nemo.collections.tts.models import FastPitchModel\n",
    "        pretrained_model = \"tts_en_fastpitch\"\n",
    "    elif spectrogram_generator == \"flowtron\":\n",
    "        from nemo.collections.tts.models import FlowtronModel\n",
    "        pretrained_model = \"Flowtron\"\n",
    "        SpectrogramGenerator = FlowtronModel\n",
    "    elif spectrogram_generator == \"fastspeech2\":\n",
    "        from nemo.collections.tts.models import FastSpeech2Model\n",
    "        pretrained_model = \"tts_en_fastspeech2\"\n",
    "    elif spectrogram_generator == \"mixertts\":\n",
    "        from nemo.collections.tts.models import MixerTTSModel\n",
    "        pretrained_model = \"tts_en_lj_mixertts\"\n",
    "        SpectrogramGenerator = MixerTTSModel\n",
    "    elif spectrogram_generator == \"mixerttsx\":\n",
    "        from nemo.collections.tts.models import MixerTTSModel\n",
    "        pretrained_model = \"tts_en_lj_mixerttsx\"\n",
    "        SpectrogramGenerator = MixerTTSModel\n",
    "    else:\n",
    "        raise NotImplementedError\n",
    "        \n",
    "    model = SpectrogramGenerator.from_pretrained(pretrained_model, override_config_path=override_conf) if pretrained_model != 'Flowtron' else SpectrogramGenerator.restore_from(restore_path=\"/akshita/NeMo/tutorials/tts/nemo_experiments/Flowtron/2022-02-02_09-43-09/checkpoints/Flowtron.nemo\")\n",
    "    \n",
    "    return model\n",
    "\n",
    "\n",
    "def load_vocoder_model():\n",
    "    RequestPseudoInverse = False\n",
    "    TwoStagesModel = False\n",
    "    strict=True\n",
    "    \n",
    "    if audio_generator == \"waveglow\":\n",
    "        from nemo.collections.tts.models import WaveGlowModel\n",
    "        pretrained_model = \"tts_waveglow\"\n",
    "        strict=False\n",
    "    elif audio_generator == \"squeezewave\":\n",
    "        from nemo.collections.tts.models import SqueezeWaveModel\n",
    "        pretrained_model = \"tts_squeezewave\"\n",
    "    elif audio_generator == \"uniglow\":\n",
    "        from nemo.collections.tts.models import UniGlowModel\n",
    "        pretrained_model = \"tts_uniglow\"\n",
    "    elif audio_generator == \"melgan\":\n",
    "        from nemo.collections.tts.models import MelGanModel\n",
    "        pretrained_model = \"tts_melgan\"\n",
    "    elif audio_generator == \"hifigan\":\n",
    "        from nemo.collections.tts.models import HifiGanModel\n",
    "        spectrogram_generator2ft_hifigan = {\n",
    "            \"mixertts\": \"tts_en_lj_hifigan_ft_mixertts\",\n",
    "            \"mixerttsx\": \"tts_en_lj_hifigan_ft_mixerttsx\"\n",
    "        }\n",
    "        pretrained_model = spectrogram_generator2ft_hifigan.get(spectrogram_generator, \"tts_hifigan\")\n",
    "    elif audio_generator == \"univnet\":\n",
    "        from nemo.collections.tts.models import UnivNetModel\n",
    "        pretrained_model = \"tts_en_lj_univnet\"\n",
    "    elif audio_generator == \"griffin-lim\":\n",
    "        from nemo.collections.tts.models import TwoStagesModel\n",
    "        cfg = {'linvocoder':  {'_target_': 'nemo.collections.tts.models.two_stages.GriffinLimModel',\n",
    "                             'cfg': {'n_iters': 64, 'n_fft': 1024, 'l_hop': 256}},\n",
    "               'mel2spec': {'_target_': 'nemo.collections.tts.models.two_stages.MelPsuedoInverseModel',\n",
    "                           'cfg': {'sampling_rate': 22050, 'n_fft': 1024, \n",
    "                                   'mel_fmin': 0, 'mel_fmax': 8000, 'mel_freq': 80}}}\n",
    "        model = TwoStagesModel(cfg)            \n",
    "        TwoStagesModel = True\n",
    "    else:\n",
    "        raise NotImplementedError\n",
    "\n",
    "    if not TwoStagesModel:\n",
    "        model = Vocoder.from_pretrained(pretrained_model, strict=strict)\n",
    "        \n",
    "    return model\n",
    "\n",
    "def load_e2e_model():\n",
    "    if e2e_model == \"fastpitch_hifigan\":\n",
    "        from nemo.collections.tts.models import FastPitchHifiGanE2EModel\n",
    "        pretrained_model = \"tts_en_e2e_fastpitchhifigan\"\n",
    "    elif e2e_model == \"fastspeech2_hifigan\":\n",
    "        from nemo.collections.tts.models import FastSpeech2HifiGanE2EModel\n",
    "        pretrained_model = \"tts_en_e2e_fastspeech2hifigan\"\n",
    "    else:\n",
    "        raise NotImplementedError\n",
    "\n",
    "    model = TextToWaveform.from_pretrained(pretrained_model)\n",
    "    return model\n",
    "\n",
    "emodel = None\n",
    "spec_gen = None\n",
    "vocoder = None\n",
    "if e2e_model:\n",
    "    emodel = load_e2e_model().eval().cuda()\n",
    "else:\n",
    "    spec_gen_model = load_spectrogram_model()\n",
    "    spec_gen = spec_gen_model.eval().cuda()\n",
    "    vocoder = load_vocoder_model().eval().cuda()"
   ]
  },
  {
   "cell_type": "markdown",
   "metadata": {},
   "source": [
    "## Inference\n",
    "\n",
    "Now that we have downloaded the model checkpoints and loaded them into memory. Let's define a short infer helper function that takes a string, and our models to produce speech.\n",
    "\n",
    "Notice that the NeMo TTS model interface is fairly simple and standardized across all models.\n",
    "\n",
    "End-to-end models have two helper functions:\n",
    "- parse(): Accepts raw python strings and returns a torch.tensor that represents tokenized text\n",
    "- convert_text_to_waveform(): Accepts a batch of tokenized text and returns a torch.tensor that represents a batch of raw audio\n",
    "\n",
    "Mel Spectrogram generators have two helper functions:\n",
    "\n",
    "- parse(): Accepts raw python strings and returns a torch.tensor that represents tokenized text\n",
    "- generate_spectrogram(): Accepts a batch of tokenized text and returns a torch.tensor that represents a batch of spectrograms\n",
    "\n",
    "Vocoder have just one helper function:\n",
    "\n",
    "- convert_spectrogram_to_audio(): Accepts a batch of spectrograms and returns a torch.tensor that represents a batch of raw audio"
   ]
  },
  {
   "cell_type": "code",
   "execution_count": 6,
   "metadata": {},
   "outputs": [],
   "source": [
    "def infer(end2end_model, spec_gen_model, vocoder_model, str_input, speaker_id):\n",
    "    parser_model = end2end_model or spec_gen_model\n",
    "    with torch.no_grad():\n",
    "        parsed = parser_model.parse(str_input)\n",
    "        if end2end_model is None:\n",
    "            gen_spec_kwargs = {}\n",
    "            \n",
    "            if spectrogram_generator == \"mixerttsx\":\n",
    "                gen_spec_kwargs[\"raw_texts\"] = [str_input]\n",
    "\n",
    "            spectrogram = spec_gen_model.generate_spectrogram(tokens=parsed, **gen_spec_kwargs)\n",
    "            print(spectrogram.size())\n",
    "            audio = vocoder_model.convert_spectrogram_to_audio(spec=spectrogram)\n",
    "            \n",
    "            if audio_generator == \"hifigan\":\n",
    "                audio = vocoder_model._bias_denoise(audio, spectrogram).squeeze(1)\n",
    "        else:\n",
    "            spectrogram = None\n",
    "            audio = end2end_model.convert_text_to_waveform(tokens=parsed)[0]\n",
    "    if spectrogram is not None:\n",
    "        if isinstance(spectrogram, torch.Tensor):\n",
    "            spectrogram = spectrogram.to('cpu').numpy()\n",
    "        if len(spectrogram.shape) == 3:\n",
    "            spectrogram = spectrogram[0]\n",
    "    if isinstance(audio, torch.Tensor):\n",
    "        audio = audio.to('cpu').numpy()\n",
    "    return spectrogram, audio"
   ]
  },
  {
   "cell_type": "markdown",
   "metadata": {},
   "source": [
    "Now that everything is set up, let's give an input that we want our models to speak"
   ]
  },
  {
   "cell_type": "code",
   "execution_count": 7,
   "metadata": {},
   "outputs": [
    {
     "name": "stdout",
     "output_type": "stream",
     "text": [
      "torch.Size([1, 80, 125])\n"
     ]
    }
   ],
   "source": [
    "text_to_generate = \"how are you doing sir\"\n",
    "# text_to_generate = input(\"Input what you want the model to say: \")\n",
    "spec, audio = infer(emodel, spec_gen, vocoder, text_to_generate, speaker_id=0)"
   ]
  },
  {
   "cell_type": "markdown",
   "metadata": {},
   "source": [
    "# Results\n",
    "\n",
    "After our model generates the audio, let's go ahead and play it. We can also visualize the spectrogram that was produced from the first stage model if a spectrogram generator was used."
   ]
  },
  {
   "cell_type": "code",
   "execution_count": 8,
   "metadata": {},
   "outputs": [
    {
     "data": {
      "text/html": [
       "\n",
       "                <audio  controls=\"controls\" >\n",
       "                    <source src=\"data:audio/wav;base64,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\" type=\"audio/wav\" />\n",
       "                    Your browser does not support the audio element.\n",
       "                </audio>\n",
       "              "
      ],
      "text/plain": [
       "<IPython.lib.display.Audio object>"
      ]
     },
     "execution_count": 8,
     "metadata": {},
     "output_type": "execute_result"
    }
   ],
   "source": [
    "import IPython.display as ipd\n",
    "import numpy as np\n",
    "from PIL import Image\n",
    "from matplotlib.pyplot import imshow\n",
    "from matplotlib import pyplot as plt\n",
    "\n",
    "ipd.Audio(audio, rate=22050)"
   ]
  },
  {
   "cell_type": "code",
   "execution_count": null,
   "metadata": {},
   "outputs": [],
   "source": [
    "%matplotlib inline\n",
    "if spec is not None:\n",
    "    imshow(spec, origin=\"lower\")\n",
    "    plt.show()"
   ]
  },
  {
   "cell_type": "code",
   "execution_count": null,
   "metadata": {},
   "outputs": [],
   "source": []
  }
 ],
 "metadata": {
  "interpreter": {
   "hash": "9750c3195c8cb9412c65c8ba8b36c6ba2b82b23ddd61f39d29e01b403b049680"
  },
  "kernelspec": {
   "display_name": "Python 3 (ipykernel flowtron)",
   "language": "python",
   "name": "python3"
  },
  "language_info": {
   "codemirror_mode": {
    "name": "ipython",
    "version": 3
   },
   "file_extension": ".py",
   "mimetype": "text/x-python",
   "name": "python",
   "nbconvert_exporter": "python",
   "pygments_lexer": "ipython3",
   "version": "3.8.12"
  }
 },
 "nbformat": 4,
 "nbformat_minor": 4
}
