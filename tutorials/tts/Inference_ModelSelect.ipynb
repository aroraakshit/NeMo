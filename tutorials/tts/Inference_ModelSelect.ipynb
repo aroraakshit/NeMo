{
 "cells": [
  {
   "cell_type": "markdown",
   "metadata": {},
   "source": [
    "# TTS Inference Model Selection\n",
    "\n",
    "This notebook can be used to generate audio samples using either NeMo's pretrained models or after training NeMo TTS models. This notebook supports all TTS models and is intended to showcase different models and how their results differ."
   ]
  },
  {
   "cell_type": "markdown",
   "metadata": {},
   "source": [
    "# License\n",
    "\n",
    "> Copyright 2020 NVIDIA. All Rights Reserved.\n",
    "> \n",
    "> Licensed under the Apache License, Version 2.0 (the \"License\");\n",
    "> you may not use this file except in compliance with the License.\n",
    "> You may obtain a copy of the License at\n",
    "> \n",
    ">     http://www.apache.org/licenses/LICENSE-2.0\n",
    "> \n",
    "> Unless required by applicable law or agreed to in writing, software\n",
    "> distributed under the License is distributed on an \"AS IS\" BASIS,\n",
    "> WITHOUT WARRANTIES OR CONDITIONS OF ANY KIND, either express or implied.\n",
    "> See the License for the specific language governing permissions and\n",
    "> limitations under the License."
   ]
  },
  {
   "cell_type": "code",
   "execution_count": null,
   "metadata": {
    "tags": []
   },
   "outputs": [],
   "source": [
    "\"\"\"\n",
    "You can either run this notebook locally (if you have all the dependencies and a GPU) or on Google Colab.\n",
    "Instructions for setting up Colab are as follows:\n",
    "1. Open a new Python 3 notebook.\n",
    "2. Import this notebook from GitHub (File -> Upload Notebook -> \"GITHUB\" tab -> copy/paste GitHub URL)\n",
    "3. Connect to an instance with a GPU (Runtime -> Change runtime type -> select \"GPU\" for hardware accelerator)\n",
    "4. Run this cell to set up dependencies.\n",
    "\"\"\"\n",
    "# # If you're using Google Colab and not running locally, uncomment and run this cell.\n",
    "# !apt-get install sox libsndfile1 ffmpeg\n",
    "# !pip install wget unidecode\n",
    "# BRANCH = 'main'\n",
    "# !python -m pip install git+https://github.com/NVIDIA/NeMo.git@$BRANCH#egg=nemo_toolkit[tts]"
   ]
  },
  {
   "cell_type": "markdown",
   "metadata": {},
   "source": [
    "## Models\n",
    "\n",
    "First we pick the models that we want to use. Currently supported models are:\n",
    "\n",
    "End-to-End Models:\n",
    "- [FastPitch_HifiGan_E2E](https://ngc.nvidia.com/catalog/models/nvidia:nemo:tts_en_e2e_fastpitchhifigan)\n",
    "- [FastSpeech2_HifiGan_E2E](https://ngc.nvidia.com/catalog/models/nvidia:nemo:tts_en_e2e_fastspeech2hifigan)\n",
    "\n",
    "Spectrogram Generators:\n",
    "- [Tacotron 2](https://ngc.nvidia.com/catalog/models/nvidia:nemo:tts_en_tacotron2)\n",
    "- [Glow-TTS](https://ngc.nvidia.com/catalog/models/nvidia:nemo:tts_en_glowtts)\n",
    "- [TalkNet](https://ngc.nvidia.com/catalog/models/nvidia:nemo:tts_en_talknet)\n",
    "- [FastPitch](https://ngc.nvidia.com/catalog/models/nvidia:nemo:tts_en_fastpitch)\n",
    "- [FastSpeech2](https://ngc.nvidia.com/catalog/models/nvidia:nemo:tts_en_fastspeech_2)\n",
    "- [Mixer-TTS](https://ngc.nvidia.com/catalog/models/nvidia:nemo:tts_en_lj_mixertts)\n",
    "- [Mixer-TTS-X](https://ngc.nvidia.com/catalog/models/nvidia:nemo:tts_en_lj_mixerttsx)\n",
    "\n",
    "Audio Generators\n",
    "- [WaveGlow](https://ngc.nvidia.com/catalog/models/nvidia:nemo:tts_waveglow_88m)\n",
    "- [SqueezeWave](https://ngc.nvidia.com/catalog/models/nvidia:nemo:tts_squeezewave)\n",
    "- [UniGlow](https://ngc.nvidia.com/catalog/models/nvidia:nemo:tts_uniglow)\n",
    "- [MelGAN](https://ngc.nvidia.com/catalog/models/nvidia:nemo:tts_melgan)\n",
    "- [HiFiGAN](https://ngc.nvidia.com/catalog/models/nvidia:nemo:tts_hifigan)\n",
    "- [UnivNet](https://ngc.nvidia.com/catalog/models/nvidia:nemo:tts_en_lj_univnet)\n",
    "- Griffin-Lim"
   ]
  },
  {
   "cell_type": "code",
   "execution_count": null,
   "metadata": {
    "tags": []
   },
   "outputs": [],
   "source": [
    "from ipywidgets import Select, HBox, Label\n",
    "from IPython.display import display\n",
    "\n",
    "supported_e2e = [\"fastpitch_hifigan\", \"fastspeech2_hifigan\", None]\n",
    "supported_spec_gen = [\"tacotron2\", \"glow_tts\", \"talknet\", \"fastpitch\", \"fastspeech2\", \"mixertts\", \"mixerttsx\", None]\n",
    "supported_audio_gen = [\"waveglow\", \"squeezewave\", \"uniglow\", \"melgan\", \"hifigan\", \"univnet\", \"griffin-lim\", None]\n",
    "\n",
    "print(\"Select the model(s) that you want to use. Please choose either 1 end-to-end model or 1 spectrogram generator and 1 vocoder.\")\n",
    "e2e_selector = Select(options=supported_e2e, value=None)\n",
    "spectrogram_generator_selector = Select(options=supported_spec_gen, value=None)\n",
    "audio_generator_selector = Select(options=supported_audio_gen, value=None)\n",
    "display(HBox([e2e_selector, Label(\"OR\"), spectrogram_generator_selector, Label(\"+\"), audio_generator_selector]))"
   ]
  },
  {
   "cell_type": "code",
   "execution_count": null,
   "metadata": {},
   "outputs": [],
   "source": [
    "e2e_model = e2e_selector.value\n",
    "spectrogram_generator = spectrogram_generator_selector.value\n",
    "audio_generator = audio_generator_selector.value\n",
    "\n",
    "if e2e_model is None and spectrogram_generator is None and audio_generator is None:\n",
    "    raise ValueError(\"No models were chosen. Please return to the previous step and choose either 1 end-to-end model or 1 spectrogram generator and 1 vocoder.\")\n",
    "\n",
    "if e2e_model and (spectrogram_generator or audio_generator):\n",
    "    raise ValueError(\n",
    "        \"An end-to-end model was chosen and either a spectrogram generator or a vocoder was also selected. For end-to-end models, please select `None` \"\n",
    "        \"in the second and third column to continue. For the two step pipeline, please select `None` in the first column to continue.\"\n",
    "    )\n",
    "\n",
    "if (spectrogram_generator and audio_generator is None) or (audio_generator and spectrogram_generator is None):\n",
    "    raise ValueError(\"In order to continue with the two step pipeline, both the spectrogram generator and the audio generator must be chosen, but one was `None`\")\n",
    "    "
   ]
  },
  {
   "cell_type": "markdown",
   "metadata": {},
   "source": [
    "## Load model checkpoints\n",
    "\n",
    "Next we load the pretrained model provided by NeMo. All NeMo models have two functions to help with this\n",
    "\n",
    "- list_available_models(): This function will return a list of all pretrained checkpoints for that model\n",
    "- from_pretrained(): This function will download the pretrained checkpoint, load it, and return an instance of the model\n",
    "\n",
    "Below we will use `from_pretrained` to load the chosen models from above."
   ]
  },
  {
   "cell_type": "code",
   "execution_count": 1,
   "metadata": {},
   "outputs": [],
   "source": [
    "e2e_model = None\n",
    "spectrogram_generator = \"flowtron\"\n",
    "audio_generator = \"waveglow\""
   ]
  },
  {
   "cell_type": "code",
   "execution_count": 2,
   "metadata": {
    "tags": []
   },
   "outputs": [
    {
     "name": "stdout",
     "output_type": "stream",
     "text": [
      "NOTE! Installing ujson may make loading annotations faster.\n"
     ]
    },
    {
     "name": "stderr",
     "output_type": "stream",
     "text": [
      "################################################################################\n",
      "### WARNING, path does not exist: KALDI_ROOT=/mnt/matylda5/iveselyk/Tools/kaldi-trunk\n",
      "###          (please add 'export KALDI_ROOT=<your_path>' in your $HOME/.profile)\n",
      "###          (or run as: KALDI_ROOT=<your_path> python <your_script>.py)\n",
      "################################################################################\n",
      "\n",
      "[NeMo W 2022-02-04 23:31:01 experimental:27] Module <function get_argmin_mat at 0x7feafabb65e0> is experimental, not ready for production and is not fully supported. Use at your own risk.\n",
      "[NeMo W 2022-02-04 23:31:01 experimental:27] Module <function getMultiScaleCosAffinityMatrix at 0x7feafad1de50> is experimental, not ready for production and is not fully supported. Use at your own risk.\n",
      "[NeMo W 2022-02-04 23:31:01 experimental:27] Module <function parse_scale_configs at 0x7feafabb6f70> is experimental, not ready for production and is not fully supported. Use at your own risk.\n",
      "[NeMo W 2022-02-04 23:31:01 experimental:27] Module <function get_embs_and_timestamps at 0x7feafad1da60> is experimental, not ready for production and is not fully supported. Use at your own risk.\n",
      "[NeMo W 2022-02-04 23:31:06 modelPT:135] If you intend to do training or fine-tuning, please call the ModelPT.setup_training_data() method and provide a valid configuration file to setup the train data loader.\n",
      "    Train config : \n",
      "    dataset:\n",
      "      _target_: nemo.collections.tts.data.datalayers.FlowtronData\n",
      "      manifest_filepath: /akshita/flowtron/filelists/ljs_audiopaths_text_sid_train_filelist.txt\n",
      "      filter_length: 1024\n",
      "      hop_length: 256\n",
      "      win_length: 1024\n",
      "      sampling_rate: 22050\n",
      "      mel_fmin: 0.0\n",
      "      mel_fmax: 8000.0\n",
      "      max_wav_value: 32768.0\n",
      "      p_arpabet: 0.5\n",
      "      cmudict_path: /akshita/flowtron/data/cmudict_dictionary\n",
      "      text_cleaners:\n",
      "      - flowtron_cleaners\n",
      "      speaker_ids: null\n",
      "      use_attn_prior: false\n",
      "      attn_prior_threshold: 0.0\n",
      "      prior_cache_path: /attention_prior_cache\n",
      "      betab_scaling_factor: 1.0\n",
      "      keep_ambiguous: false\n",
      "      seed:\n",
      "        model.seed: null\n",
      "      randomize: true\n",
      "    dataloader_params:\n",
      "      num_workers: 1\n",
      "      shuffle: true\n",
      "      sampler: null\n",
      "      batch_size: 2\n",
      "      pin_memory: false\n",
      "      drop_last: true\n",
      "    \n",
      "[NeMo W 2022-02-04 23:31:06 modelPT:142] If you intend to do validation, please call the ModelPT.setup_validation_data() or ModelPT.setup_multiple_validation_data() method and provide a valid configuration file to setup the validation data loader(s). \n",
      "    Validation config : \n",
      "    dataset:\n",
      "      _target_: nemo.collections.tts.data.datalayers.FlowtronData\n",
      "      manifest_filepath: /akshita/flowtron/filelists/ljs_audiopaths_text_sid_train_filelist.txt\n",
      "      filter_length: 1024\n",
      "      hop_length: 256\n",
      "      win_length: 1024\n",
      "      sampling_rate: 22050\n",
      "      mel_fmin: 0.0\n",
      "      mel_fmax: 8000.0\n",
      "      max_wav_value: 32768.0\n",
      "      p_arpabet: 0.5\n",
      "      cmudict_path: /akshita/flowtron/data/cmudict_dictionary\n",
      "      text_cleaners:\n",
      "      - flowtron_cleaners\n",
      "      speaker_ids: null\n",
      "      use_attn_prior: false\n",
      "      attn_prior_threshold: 0.0\n",
      "      prior_cache_path: /attention_prior_cache\n",
      "      betab_scaling_factor: 1.0\n",
      "      keep_ambiguous: false\n",
      "      seed:\n",
      "        model.seed: null\n",
      "      randomize: true\n",
      "    dataloader_params:\n",
      "      num_workers: 1\n",
      "      shuffle: false\n",
      "      sampler: null\n",
      "      batch_size: 2\n",
      "      pin_memory: false\n",
      "    \n"
     ]
    },
    {
     "name": "stdout",
     "output_type": "stream",
     "text": [
      "[NeMo I 2022-02-04 23:31:11 save_restore_connector:154] Model FlowtronModel was successfully restored from /akshita/NeMo/tutorials/tts/nemo_experiments/Flowtron/2022-02-02_09-43-09/checkpoints/Flowtron.nemo.\n",
      "[NeMo I 2022-02-04 23:31:11 cloud:56] Found existing object /root/.cache/torch/NeMo/NeMo_1.6.0/tts_waveglow/be8c69c04450b3da0ce5a38a8ef4014f/tts_waveglow.nemo.\n",
      "[NeMo I 2022-02-04 23:31:11 cloud:62] Re-using file from: /root/.cache/torch/NeMo/NeMo_1.6.0/tts_waveglow/be8c69c04450b3da0ce5a38a8ef4014f/tts_waveglow.nemo\n",
      "[NeMo I 2022-02-04 23:31:11 common:729] Instantiating model from pre-trained checkpoint\n"
     ]
    },
    {
     "name": "stderr",
     "output_type": "stream",
     "text": [
      "[NeMo W 2022-02-04 23:31:15 modelPT:135] If you intend to do training or fine-tuning, please call the ModelPT.setup_training_data() method and provide a valid configuration file to setup the train data loader.\n",
      "    Train config : \n",
      "    dataset:\n",
      "      _target_: nemo.collections.tts.data.datalayers.AudioDataset\n",
      "      manifest_filepath: /raid/LJSpeech/nvidia_ljspeech_train.json\n",
      "      max_duration: null\n",
      "      min_duration: 0.1\n",
      "      n_segments: 16000\n",
      "      trim: false\n",
      "    dataloader_params:\n",
      "      drop_last: false\n",
      "      shuffle: true\n",
      "      batch_size: 12\n",
      "      num_workers: 4\n",
      "    \n",
      "[NeMo W 2022-02-04 23:31:15 modelPT:142] If you intend to do validation, please call the ModelPT.setup_validation_data() or ModelPT.setup_multiple_validation_data() method and provide a valid configuration file to setup the validation data loader(s). \n",
      "    Validation config : \n",
      "    dataset:\n",
      "      _target_: nemo.collections.tts.data.datalayers.AudioDataset\n",
      "      manifest_filepath: /raid/LJSpeech/nvidia_ljspeech_val.json\n",
      "      max_duration: null\n",
      "      min_duration: 0.1\n",
      "      n_segments: -1\n",
      "      trim: false\n",
      "    dataloader_params:\n",
      "      drop_last: false\n",
      "      shuffle: false\n",
      "      batch_size: 8\n",
      "      num_workers: 4\n",
      "    \n"
     ]
    },
    {
     "name": "stdout",
     "output_type": "stream",
     "text": [
      "[NeMo I 2022-02-04 23:31:15 features:264] PADDING: 16\n",
      "[NeMo I 2022-02-04 23:31:15 features:281] STFT using torch\n"
     ]
    },
    {
     "name": "stderr",
     "output_type": "stream",
     "text": [
      "[NeMo W 2022-02-04 23:31:15 nemo_logging:349] /akshita/NeMo/nemo/collections/tts/modules/submodules.py:193: UserWarning: torch.qr is deprecated in favor of torch.linalg.qr and will be removed in a future PyTorch release.\n",
      "    The boolean parameter 'some' has been replaced with a string parameter 'mode'.\n",
      "    Q, R = torch.qr(A, some)\n",
      "    should be replaced with\n",
      "    Q, R = torch.linalg.qr(A, 'reduced' if some else 'complete') (Triggered internally at  /opt/pytorch/pytorch/aten/src/ATen/native/BatchLinearAlgebra.cpp:1931.)\n",
      "      W = torch.qr(torch.FloatTensor(c, c).normal_())[0]\n",
      "    \n"
     ]
    },
    {
     "name": "stdout",
     "output_type": "stream",
     "text": [
      "[NeMo I 2022-02-04 23:31:17 save_restore_connector:154] Model WaveGlowModel was successfully restored from /root/.cache/torch/NeMo/NeMo_1.6.0/tts_waveglow/be8c69c04450b3da0ce5a38a8ef4014f/tts_waveglow.nemo.\n"
     ]
    }
   ],
   "source": [
    "from omegaconf import OmegaConf, open_dict\n",
    "import torch\n",
    "from nemo.collections.tts.models.base import SpectrogramGenerator, Vocoder, TextToWaveform\n",
    "\n",
    "\n",
    "def load_spectrogram_model():\n",
    "    override_conf = None\n",
    "    if spectrogram_generator == \"tacotron2\":\n",
    "        from nemo.collections.tts.models import Tacotron2Model\n",
    "        pretrained_model = \"tts_en_tacotron2\"\n",
    "        SpectrogramGenerator = Tacotron2Model\n",
    "    elif spectrogram_generator == \"glow_tts\":\n",
    "        from nemo.collections.tts.models import GlowTTSModel\n",
    "        pretrained_model = \"tts_en_glowtts\"\n",
    "        import wget\n",
    "        from pathlib import Path\n",
    "        if not Path(\"cmudict-0.7b\").exists():\n",
    "            filename = wget.download(\"http://svn.code.sf.net/p/cmusphinx/code/trunk/cmudict/cmudict-0.7b\")\n",
    "            filename = str(Path(filename).resolve())\n",
    "        else:\n",
    "            filename = str(Path(\"cmudict-0.7b\").resolve())\n",
    "        conf = SpectrogramGenerator.from_pretrained(pretrained_model, return_config=True)\n",
    "        if \"params\" in conf.parser:\n",
    "            conf.parser.params.cmu_dict_path = filename\n",
    "        else:\n",
    "            conf.parser.cmu_dict_path = filename\n",
    "        override_conf = conf\n",
    "    elif spectrogram_generator == \"talknet\":\n",
    "        from nemo.collections.tts.models import TalkNetSpectModel\n",
    "        pretrained_model = \"tts_en_talknet\"\n",
    "        SpectrogramGenerator = TalkNetSpectModel\n",
    "    elif spectrogram_generator == \"fastpitch\":\n",
    "        from nemo.collections.tts.models import FastPitchModel\n",
    "        pretrained_model = \"tts_en_fastpitch\"\n",
    "    elif spectrogram_generator == \"flowtron\":\n",
    "        from nemo.collections.tts.models import FlowtronModel\n",
    "        pretrained_model = \"Flowtron\"\n",
    "        SpectrogramGenerator = FlowtronModel\n",
    "    elif spectrogram_generator == \"fastspeech2\":\n",
    "        from nemo.collections.tts.models import FastSpeech2Model\n",
    "        pretrained_model = \"tts_en_fastspeech2\"\n",
    "    elif spectrogram_generator == \"mixertts\":\n",
    "        from nemo.collections.tts.models import MixerTTSModel\n",
    "        pretrained_model = \"tts_en_lj_mixertts\"\n",
    "        SpectrogramGenerator = MixerTTSModel\n",
    "    elif spectrogram_generator == \"mixerttsx\":\n",
    "        from nemo.collections.tts.models import MixerTTSModel\n",
    "        pretrained_model = \"tts_en_lj_mixerttsx\"\n",
    "        SpectrogramGenerator = MixerTTSModel\n",
    "    else:\n",
    "        raise NotImplementedError\n",
    "        \n",
    "    model = SpectrogramGenerator.from_pretrained(pretrained_model, override_config_path=override_conf) if pretrained_model != 'Flowtron' else SpectrogramGenerator.restore_from(restore_path=\"/akshita/NeMo/tutorials/tts/nemo_experiments/Flowtron/2022-02-02_09-43-09/checkpoints/Flowtron.nemo\")\n",
    "    \n",
    "    return model\n",
    "\n",
    "\n",
    "def load_vocoder_model():\n",
    "    RequestPseudoInverse = False\n",
    "    TwoStagesModel = False\n",
    "    strict=True\n",
    "    \n",
    "    if audio_generator == \"waveglow\":\n",
    "        from nemo.collections.tts.models import WaveGlowModel\n",
    "        pretrained_model = \"tts_waveglow\"\n",
    "        strict=False\n",
    "    elif audio_generator == \"squeezewave\":\n",
    "        from nemo.collections.tts.models import SqueezeWaveModel\n",
    "        pretrained_model = \"tts_squeezewave\"\n",
    "    elif audio_generator == \"uniglow\":\n",
    "        from nemo.collections.tts.models import UniGlowModel\n",
    "        pretrained_model = \"tts_uniglow\"\n",
    "    elif audio_generator == \"melgan\":\n",
    "        from nemo.collections.tts.models import MelGanModel\n",
    "        pretrained_model = \"tts_melgan\"\n",
    "    elif audio_generator == \"hifigan\":\n",
    "        from nemo.collections.tts.models import HifiGanModel\n",
    "        spectrogram_generator2ft_hifigan = {\n",
    "            \"mixertts\": \"tts_en_lj_hifigan_ft_mixertts\",\n",
    "            \"mixerttsx\": \"tts_en_lj_hifigan_ft_mixerttsx\"\n",
    "        }\n",
    "        pretrained_model = spectrogram_generator2ft_hifigan.get(spectrogram_generator, \"tts_hifigan\")\n",
    "    elif audio_generator == \"univnet\":\n",
    "        from nemo.collections.tts.models import UnivNetModel\n",
    "        pretrained_model = \"tts_en_lj_univnet\"\n",
    "    elif audio_generator == \"griffin-lim\":\n",
    "        from nemo.collections.tts.models import TwoStagesModel\n",
    "        cfg = {'linvocoder':  {'_target_': 'nemo.collections.tts.models.two_stages.GriffinLimModel',\n",
    "                             'cfg': {'n_iters': 64, 'n_fft': 1024, 'l_hop': 256}},\n",
    "               'mel2spec': {'_target_': 'nemo.collections.tts.models.two_stages.MelPsuedoInverseModel',\n",
    "                           'cfg': {'sampling_rate': 22050, 'n_fft': 1024, \n",
    "                                   'mel_fmin': 0, 'mel_fmax': 8000, 'mel_freq': 80}}}\n",
    "        model = TwoStagesModel(cfg)            \n",
    "        TwoStagesModel = True\n",
    "    else:\n",
    "        raise NotImplementedError\n",
    "\n",
    "    if not TwoStagesModel:\n",
    "        model = Vocoder.from_pretrained(pretrained_model, strict=strict)\n",
    "        \n",
    "    return model\n",
    "\n",
    "def load_e2e_model():\n",
    "    if e2e_model == \"fastpitch_hifigan\":\n",
    "        from nemo.collections.tts.models import FastPitchHifiGanE2EModel\n",
    "        pretrained_model = \"tts_en_e2e_fastpitchhifigan\"\n",
    "    elif e2e_model == \"fastspeech2_hifigan\":\n",
    "        from nemo.collections.tts.models import FastSpeech2HifiGanE2EModel\n",
    "        pretrained_model = \"tts_en_e2e_fastspeech2hifigan\"\n",
    "    else:\n",
    "        raise NotImplementedError\n",
    "\n",
    "    model = TextToWaveform.from_pretrained(pretrained_model)\n",
    "    return model\n",
    "\n",
    "emodel = None\n",
    "spec_gen = None\n",
    "vocoder = None\n",
    "if e2e_model:\n",
    "    emodel = load_e2e_model().eval().cuda()\n",
    "else:\n",
    "    spec_gen_model = load_spectrogram_model()\n",
    "    spec_gen = spec_gen_model.eval().cuda()\n",
    "    vocoder = load_vocoder_model().eval().cuda()"
   ]
  },
  {
   "cell_type": "markdown",
   "metadata": {},
   "source": [
    "## Inference\n",
    "\n",
    "Now that we have downloaded the model checkpoints and loaded them into memory. Let's define a short infer helper function that takes a string, and our models to produce speech.\n",
    "\n",
    "Notice that the NeMo TTS model interface is fairly simple and standardized across all models.\n",
    "\n",
    "End-to-end models have two helper functions:\n",
    "- parse(): Accepts raw python strings and returns a torch.tensor that represents tokenized text\n",
    "- convert_text_to_waveform(): Accepts a batch of tokenized text and returns a torch.tensor that represents a batch of raw audio\n",
    "\n",
    "Mel Spectrogram generators have two helper functions:\n",
    "\n",
    "- parse(): Accepts raw python strings and returns a torch.tensor that represents tokenized text\n",
    "- generate_spectrogram(): Accepts a batch of tokenized text and returns a torch.tensor that represents a batch of spectrograms\n",
    "\n",
    "Vocoder have just one helper function:\n",
    "\n",
    "- convert_spectrogram_to_audio(): Accepts a batch of spectrograms and returns a torch.tensor that represents a batch of raw audio"
   ]
  },
  {
   "cell_type": "code",
   "execution_count": 13,
   "metadata": {},
   "outputs": [],
   "source": [
    "def infer(end2end_model, spec_gen_model, vocoder_model, str_input, speaker_id):\n",
    "    parser_model = end2end_model or spec_gen_model\n",
    "    with torch.no_grad():\n",
    "        parsed = parser_model.parse(str_input, speaker_id=speaker_id)\n",
    "        if end2end_model is None:\n",
    "            gen_spec_kwargs = {}\n",
    "            \n",
    "            if spectrogram_generator == \"mixerttsx\":\n",
    "                gen_spec_kwargs[\"raw_texts\"] = [str_input]\n",
    "\n",
    "            spectrogram = spec_gen_model.generate_spectrogram(tokens=parsed, **gen_spec_kwargs)\n",
    "            print(spectrogram.size())\n",
    "            audio = vocoder_model.convert_spectrogram_to_audio(spec=spectrogram)\n",
    "            \n",
    "            if audio_generator == \"hifigan\":\n",
    "                audio = vocoder_model._bias_denoise(audio, spectrogram).squeeze(1)\n",
    "        else:\n",
    "            spectrogram = None\n",
    "            audio = end2end_model.convert_text_to_waveform(tokens=parsed)[0]\n",
    "    if spectrogram is not None:\n",
    "        if isinstance(spectrogram, torch.Tensor):\n",
    "            spectrogram = spectrogram.to('cpu').numpy()\n",
    "        if len(spectrogram.shape) == 3:\n",
    "            spectrogram = spectrogram[0]\n",
    "    if isinstance(audio, torch.Tensor):\n",
    "        audio = audio.to('cpu').numpy()\n",
    "    return spectrogram, audio"
   ]
  },
  {
   "cell_type": "code",
   "execution_count": null,
   "metadata": {},
   "outputs": [],
   "source": []
  },
  {
   "cell_type": "markdown",
   "metadata": {},
   "source": [
    "Now that everything is set up, let's give an input that we want our models to speak"
   ]
  },
  {
   "cell_type": "code",
   "execution_count": 17,
   "metadata": {},
   "outputs": [
    {
     "name": "stdout",
     "output_type": "stream",
     "text": [
      "Number of speakers : 1\n",
      "Number of speakers : 1\n",
      "Hitting gate limit\n",
      "torch.Size([1, 80, 2])\n"
     ]
    },
    {
     "ename": "RuntimeError",
     "evalue": "Argument #4: Padding size should be less than the corresponding input dimension, but got: padding (512, 512) at dimension 2 of input [1, 1, 512]",
     "output_type": "error",
     "traceback": [
      "\u001b[0;31m---------------------------------------------------------------------------\u001b[0m",
      "\u001b[0;31mRuntimeError\u001b[0m                              Traceback (most recent call last)",
      "\u001b[0;32m/tmp/ipykernel_1191/638729512.py\u001b[0m in \u001b[0;36m<module>\u001b[0;34m\u001b[0m\n\u001b[1;32m      1\u001b[0m \u001b[0mtext_to_generate\u001b[0m \u001b[0;34m=\u001b[0m \u001b[0;34m\"It is well known that deep generative models have a rich latent space\"\u001b[0m\u001b[0;34m\u001b[0m\u001b[0;34m\u001b[0m\u001b[0m\n\u001b[1;32m      2\u001b[0m \u001b[0;31m# text_to_generate = input(\"Input what you want the model to say: \")\u001b[0m\u001b[0;34m\u001b[0m\u001b[0;34m\u001b[0m\u001b[0;34m\u001b[0m\u001b[0m\n\u001b[0;32m----> 3\u001b[0;31m \u001b[0mspec\u001b[0m\u001b[0;34m,\u001b[0m \u001b[0maudio\u001b[0m \u001b[0;34m=\u001b[0m \u001b[0minfer\u001b[0m\u001b[0;34m(\u001b[0m\u001b[0memodel\u001b[0m\u001b[0;34m,\u001b[0m \u001b[0mspec_gen\u001b[0m\u001b[0;34m,\u001b[0m \u001b[0mvocoder\u001b[0m\u001b[0;34m,\u001b[0m \u001b[0mtext_to_generate\u001b[0m\u001b[0;34m,\u001b[0m \u001b[0mspeaker_id\u001b[0m\u001b[0;34m=\u001b[0m\u001b[0;36m0\u001b[0m\u001b[0;34m)\u001b[0m\u001b[0;34m\u001b[0m\u001b[0;34m\u001b[0m\u001b[0m\n\u001b[0m",
      "\u001b[0;32m/tmp/ipykernel_1191/1548470428.py\u001b[0m in \u001b[0;36minfer\u001b[0;34m(end2end_model, spec_gen_model, vocoder_model, str_input, speaker_id)\u001b[0m\n\u001b[1;32m     11\u001b[0m             \u001b[0mspectrogram\u001b[0m \u001b[0;34m=\u001b[0m \u001b[0mspec_gen_model\u001b[0m\u001b[0;34m.\u001b[0m\u001b[0mgenerate_spectrogram\u001b[0m\u001b[0;34m(\u001b[0m\u001b[0mtokens\u001b[0m\u001b[0;34m=\u001b[0m\u001b[0mparsed\u001b[0m\u001b[0;34m,\u001b[0m \u001b[0;34m**\u001b[0m\u001b[0mgen_spec_kwargs\u001b[0m\u001b[0;34m)\u001b[0m\u001b[0;34m\u001b[0m\u001b[0;34m\u001b[0m\u001b[0m\n\u001b[1;32m     12\u001b[0m             \u001b[0mprint\u001b[0m\u001b[0;34m(\u001b[0m\u001b[0mspectrogram\u001b[0m\u001b[0;34m.\u001b[0m\u001b[0msize\u001b[0m\u001b[0;34m(\u001b[0m\u001b[0;34m)\u001b[0m\u001b[0;34m)\u001b[0m\u001b[0;34m\u001b[0m\u001b[0;34m\u001b[0m\u001b[0m\n\u001b[0;32m---> 13\u001b[0;31m             \u001b[0maudio\u001b[0m \u001b[0;34m=\u001b[0m \u001b[0mvocoder_model\u001b[0m\u001b[0;34m.\u001b[0m\u001b[0mconvert_spectrogram_to_audio\u001b[0m\u001b[0;34m(\u001b[0m\u001b[0mspec\u001b[0m\u001b[0;34m=\u001b[0m\u001b[0mspectrogram\u001b[0m\u001b[0;34m)\u001b[0m\u001b[0;34m\u001b[0m\u001b[0;34m\u001b[0m\u001b[0m\n\u001b[0m\u001b[1;32m     14\u001b[0m \u001b[0;34m\u001b[0m\u001b[0m\n\u001b[1;32m     15\u001b[0m             \u001b[0;32mif\u001b[0m \u001b[0maudio_generator\u001b[0m \u001b[0;34m==\u001b[0m \u001b[0;34m\"hifigan\"\u001b[0m\u001b[0;34m:\u001b[0m\u001b[0;34m\u001b[0m\u001b[0;34m\u001b[0m\u001b[0m\n",
      "\u001b[0;32m/akshita/NeMo/nemo/core/classes/common.py\u001b[0m in \u001b[0;36m__call__\u001b[0;34m(self, wrapped, instance, args, kwargs)\u001b[0m\n\u001b[1;32m    845\u001b[0m \u001b[0;34m\u001b[0m\u001b[0m\n\u001b[1;32m    846\u001b[0m         \u001b[0;31m# Call the method - this can be forward, or any other callable method\u001b[0m\u001b[0;34m\u001b[0m\u001b[0;34m\u001b[0m\u001b[0;34m\u001b[0m\u001b[0m\n\u001b[0;32m--> 847\u001b[0;31m         \u001b[0moutputs\u001b[0m \u001b[0;34m=\u001b[0m \u001b[0mwrapped\u001b[0m\u001b[0;34m(\u001b[0m\u001b[0;34m*\u001b[0m\u001b[0margs\u001b[0m\u001b[0;34m,\u001b[0m \u001b[0;34m**\u001b[0m\u001b[0mkwargs\u001b[0m\u001b[0;34m)\u001b[0m\u001b[0;34m\u001b[0m\u001b[0;34m\u001b[0m\u001b[0m\n\u001b[0m\u001b[1;32m    848\u001b[0m \u001b[0;34m\u001b[0m\u001b[0m\n\u001b[1;32m    849\u001b[0m         instance._attach_and_validate_output_types(\n",
      "\u001b[0;32m/akshita/NeMo/nemo/collections/tts/models/waveglow.py\u001b[0m in \u001b[0;36mconvert_spectrogram_to_audio\u001b[0;34m(self, spec, sigma, denoise, denoiser_strength)\u001b[0m\n\u001b[1;32m    136\u001b[0m             )\n\u001b[1;32m    137\u001b[0m             \u001b[0;32mif\u001b[0m \u001b[0mdenoise\u001b[0m\u001b[0;34m:\u001b[0m\u001b[0;34m\u001b[0m\u001b[0;34m\u001b[0m\u001b[0m\n\u001b[0;32m--> 138\u001b[0;31m                 \u001b[0maudio\u001b[0m \u001b[0;34m=\u001b[0m \u001b[0mself\u001b[0m\u001b[0;34m.\u001b[0m\u001b[0mdenoise\u001b[0m\u001b[0;34m(\u001b[0m\u001b[0maudio\u001b[0m\u001b[0;34m=\u001b[0m\u001b[0maudio\u001b[0m\u001b[0;34m,\u001b[0m \u001b[0mstrength\u001b[0m\u001b[0;34m=\u001b[0m\u001b[0mdenoiser_strength\u001b[0m\u001b[0;34m)\u001b[0m\u001b[0;34m\u001b[0m\u001b[0;34m\u001b[0m\u001b[0m\n\u001b[0m\u001b[1;32m    139\u001b[0m \u001b[0;34m\u001b[0m\u001b[0m\n\u001b[1;32m    140\u001b[0m         \u001b[0;32mreturn\u001b[0m \u001b[0maudio\u001b[0m\u001b[0;34m\u001b[0m\u001b[0;34m\u001b[0m\u001b[0m\n",
      "\u001b[0;32m/akshita/NeMo/nemo/core/classes/common.py\u001b[0m in \u001b[0;36m__call__\u001b[0;34m(self, wrapped, instance, args, kwargs)\u001b[0m\n\u001b[1;32m    845\u001b[0m \u001b[0;34m\u001b[0m\u001b[0m\n\u001b[1;32m    846\u001b[0m         \u001b[0;31m# Call the method - this can be forward, or any other callable method\u001b[0m\u001b[0;34m\u001b[0m\u001b[0;34m\u001b[0m\u001b[0;34m\u001b[0m\u001b[0m\n\u001b[0;32m--> 847\u001b[0;31m         \u001b[0moutputs\u001b[0m \u001b[0;34m=\u001b[0m \u001b[0mwrapped\u001b[0m\u001b[0;34m(\u001b[0m\u001b[0;34m*\u001b[0m\u001b[0margs\u001b[0m\u001b[0;34m,\u001b[0m \u001b[0;34m**\u001b[0m\u001b[0mkwargs\u001b[0m\u001b[0;34m)\u001b[0m\u001b[0;34m\u001b[0m\u001b[0;34m\u001b[0m\u001b[0m\n\u001b[0m\u001b[1;32m    848\u001b[0m \u001b[0;34m\u001b[0m\u001b[0m\n\u001b[1;32m    849\u001b[0m         instance._attach_and_validate_output_types(\n",
      "\u001b[0;32m/akshita/NeMo/nemo/collections/tts/models/base.py\u001b[0m in \u001b[0;36mdenoise\u001b[0;34m(self, audio, strength)\u001b[0m\n\u001b[1;32m    197\u001b[0m         \u001b[0;32mif\u001b[0m \u001b[0mself\u001b[0m\u001b[0;34m.\u001b[0m\u001b[0mbias_spect\u001b[0m \u001b[0;32mis\u001b[0m \u001b[0;32mNone\u001b[0m\u001b[0;34m:\u001b[0m\u001b[0;34m\u001b[0m\u001b[0;34m\u001b[0m\u001b[0m\n\u001b[1;32m    198\u001b[0m             \u001b[0mself\u001b[0m\u001b[0;34m.\u001b[0m\u001b[0mupdate_bias_spect\u001b[0m\u001b[0;34m(\u001b[0m\u001b[0;34m)\u001b[0m\u001b[0;34m\u001b[0m\u001b[0;34m\u001b[0m\u001b[0m\n\u001b[0;32m--> 199\u001b[0;31m         \u001b[0maudio_spect\u001b[0m\u001b[0;34m,\u001b[0m \u001b[0maudio_angles\u001b[0m \u001b[0;34m=\u001b[0m \u001b[0mself\u001b[0m\u001b[0;34m.\u001b[0m\u001b[0mstft\u001b[0m\u001b[0;34m(\u001b[0m\u001b[0maudio\u001b[0m\u001b[0;34m)\u001b[0m\u001b[0;34m\u001b[0m\u001b[0;34m\u001b[0m\u001b[0m\n\u001b[0m\u001b[1;32m    200\u001b[0m         \u001b[0maudio_spect_denoised\u001b[0m \u001b[0;34m=\u001b[0m \u001b[0maudio_spect\u001b[0m \u001b[0;34m-\u001b[0m \u001b[0mself\u001b[0m\u001b[0;34m.\u001b[0m\u001b[0mbias_spect\u001b[0m\u001b[0;34m.\u001b[0m\u001b[0mto\u001b[0m\u001b[0;34m(\u001b[0m\u001b[0maudio\u001b[0m\u001b[0;34m.\u001b[0m\u001b[0mdevice\u001b[0m\u001b[0;34m)\u001b[0m \u001b[0;34m*\u001b[0m \u001b[0mstrength\u001b[0m\u001b[0;34m\u001b[0m\u001b[0;34m\u001b[0m\u001b[0m\n\u001b[1;32m    201\u001b[0m         \u001b[0maudio_spect_denoised\u001b[0m \u001b[0;34m=\u001b[0m \u001b[0mtorch\u001b[0m\u001b[0;34m.\u001b[0m\u001b[0mclamp\u001b[0m\u001b[0;34m(\u001b[0m\u001b[0maudio_spect_denoised\u001b[0m\u001b[0;34m,\u001b[0m \u001b[0;36m0.0\u001b[0m\u001b[0;34m)\u001b[0m\u001b[0;34m\u001b[0m\u001b[0;34m\u001b[0m\u001b[0m\n",
      "\u001b[0;32m/akshita/NeMo/nemo/collections/tts/models/base.py\u001b[0m in \u001b[0;36m<lambda>\u001b[0;34m(x)\u001b[0m\n\u001b[1;32m    158\u001b[0m                     \u001b[0;32mreturn\u001b[0m \u001b[0mtorch\u001b[0m\u001b[0;34m.\u001b[0m\u001b[0msqrt\u001b[0m\u001b[0;34m(\u001b[0m\u001b[0mspec\u001b[0m\u001b[0;34m.\u001b[0m\u001b[0mpow\u001b[0m\u001b[0;34m(\u001b[0m\u001b[0;36m2\u001b[0m\u001b[0;34m)\u001b[0m\u001b[0;34m.\u001b[0m\u001b[0msum\u001b[0m\u001b[0;34m(\u001b[0m\u001b[0;34m-\u001b[0m\u001b[0;36m1\u001b[0m\u001b[0;34m)\u001b[0m\u001b[0;34m)\u001b[0m\u001b[0;34m,\u001b[0m \u001b[0mtorch\u001b[0m\u001b[0;34m.\u001b[0m\u001b[0matan2\u001b[0m\u001b[0;34m(\u001b[0m\u001b[0mspec\u001b[0m\u001b[0;34m[\u001b[0m\u001b[0;34m...\u001b[0m\u001b[0;34m,\u001b[0m \u001b[0;34m-\u001b[0m\u001b[0;36m1\u001b[0m\u001b[0;34m]\u001b[0m\u001b[0;34m,\u001b[0m \u001b[0mspec\u001b[0m\u001b[0;34m[\u001b[0m\u001b[0;34m...\u001b[0m\u001b[0;34m,\u001b[0m \u001b[0;36m0\u001b[0m\u001b[0;34m]\u001b[0m\u001b[0;34m)\u001b[0m\u001b[0;34m\u001b[0m\u001b[0;34m\u001b[0m\u001b[0m\n\u001b[1;32m    159\u001b[0m \u001b[0;34m\u001b[0m\u001b[0m\n\u001b[0;32m--> 160\u001b[0;31m                 self.stft = lambda x: yet_another_patch(\n\u001b[0m\u001b[1;32m    161\u001b[0m                     \u001b[0mx\u001b[0m\u001b[0;34m,\u001b[0m \u001b[0mn_fft\u001b[0m\u001b[0;34m=\u001b[0m\u001b[0mn_fft\u001b[0m\u001b[0;34m,\u001b[0m \u001b[0mhop_length\u001b[0m\u001b[0;34m=\u001b[0m\u001b[0mhop_length\u001b[0m\u001b[0;34m,\u001b[0m \u001b[0mwin_length\u001b[0m\u001b[0;34m=\u001b[0m\u001b[0mwin_length\u001b[0m\u001b[0;34m,\u001b[0m \u001b[0mwindow\u001b[0m\u001b[0;34m=\u001b[0m\u001b[0mwindow\u001b[0m\u001b[0;34m,\u001b[0m\u001b[0;34m\u001b[0m\u001b[0;34m\u001b[0m\u001b[0m\n\u001b[1;32m    162\u001b[0m                 )\n",
      "\u001b[0;32m/akshita/NeMo/nemo/collections/tts/models/base.py\u001b[0m in \u001b[0;36myet_another_patch\u001b[0;34m(audio, n_fft, hop_length, win_length, window)\u001b[0m\n\u001b[1;32m    153\u001b[0m \u001b[0;34m\u001b[0m\u001b[0m\n\u001b[1;32m    154\u001b[0m                 \u001b[0;32mdef\u001b[0m \u001b[0myet_another_patch\u001b[0m\u001b[0;34m(\u001b[0m\u001b[0maudio\u001b[0m\u001b[0;34m,\u001b[0m \u001b[0mn_fft\u001b[0m\u001b[0;34m,\u001b[0m \u001b[0mhop_length\u001b[0m\u001b[0;34m,\u001b[0m \u001b[0mwin_length\u001b[0m\u001b[0;34m,\u001b[0m \u001b[0mwindow\u001b[0m\u001b[0;34m)\u001b[0m\u001b[0;34m:\u001b[0m\u001b[0;34m\u001b[0m\u001b[0;34m\u001b[0m\u001b[0m\n\u001b[0;32m--> 155\u001b[0;31m                     \u001b[0mspec\u001b[0m \u001b[0;34m=\u001b[0m \u001b[0mtorch\u001b[0m\u001b[0;34m.\u001b[0m\u001b[0mstft\u001b[0m\u001b[0;34m(\u001b[0m\u001b[0maudio\u001b[0m\u001b[0;34m,\u001b[0m \u001b[0mn_fft\u001b[0m\u001b[0;34m=\u001b[0m\u001b[0mn_fft\u001b[0m\u001b[0;34m,\u001b[0m \u001b[0mhop_length\u001b[0m\u001b[0;34m=\u001b[0m\u001b[0mhop_length\u001b[0m\u001b[0;34m,\u001b[0m \u001b[0mwin_length\u001b[0m\u001b[0;34m=\u001b[0m\u001b[0mwin_length\u001b[0m\u001b[0;34m,\u001b[0m \u001b[0mwindow\u001b[0m\u001b[0;34m=\u001b[0m\u001b[0mwindow\u001b[0m\u001b[0;34m)\u001b[0m\u001b[0;34m\u001b[0m\u001b[0;34m\u001b[0m\u001b[0m\n\u001b[0m\u001b[1;32m    156\u001b[0m                     \u001b[0;32mif\u001b[0m \u001b[0mspec\u001b[0m\u001b[0;34m.\u001b[0m\u001b[0mdtype\u001b[0m \u001b[0;32min\u001b[0m \u001b[0;34m[\u001b[0m\u001b[0mtorch\u001b[0m\u001b[0;34m.\u001b[0m\u001b[0mcfloat\u001b[0m\u001b[0;34m,\u001b[0m \u001b[0mtorch\u001b[0m\u001b[0;34m.\u001b[0m\u001b[0mcdouble\u001b[0m\u001b[0;34m]\u001b[0m\u001b[0;34m:\u001b[0m\u001b[0;34m\u001b[0m\u001b[0;34m\u001b[0m\u001b[0m\n\u001b[1;32m    157\u001b[0m                         \u001b[0mspec\u001b[0m \u001b[0;34m=\u001b[0m \u001b[0mtorch\u001b[0m\u001b[0;34m.\u001b[0m\u001b[0mview_as_real\u001b[0m\u001b[0;34m(\u001b[0m\u001b[0mspec\u001b[0m\u001b[0;34m)\u001b[0m\u001b[0;34m\u001b[0m\u001b[0;34m\u001b[0m\u001b[0m\n",
      "\u001b[0;32m/opt/conda/lib/python3.8/site-packages/torch/functional.py\u001b[0m in \u001b[0;36mstft\u001b[0;34m(input, n_fft, hop_length, win_length, window, center, pad_mode, normalized, onesided, return_complex)\u001b[0m\n\u001b[1;32m    549\u001b[0m         \u001b[0mextended_shape\u001b[0m \u001b[0;34m=\u001b[0m \u001b[0;34m[\u001b[0m\u001b[0;36m1\u001b[0m\u001b[0;34m]\u001b[0m \u001b[0;34m*\u001b[0m \u001b[0;34m(\u001b[0m\u001b[0;36m3\u001b[0m \u001b[0;34m-\u001b[0m \u001b[0msignal_dim\u001b[0m\u001b[0;34m)\u001b[0m \u001b[0;34m+\u001b[0m \u001b[0mlist\u001b[0m\u001b[0;34m(\u001b[0m\u001b[0minput\u001b[0m\u001b[0;34m.\u001b[0m\u001b[0msize\u001b[0m\u001b[0;34m(\u001b[0m\u001b[0;34m)\u001b[0m\u001b[0;34m)\u001b[0m\u001b[0;34m\u001b[0m\u001b[0;34m\u001b[0m\u001b[0m\n\u001b[1;32m    550\u001b[0m         \u001b[0mpad\u001b[0m \u001b[0;34m=\u001b[0m \u001b[0mint\u001b[0m\u001b[0;34m(\u001b[0m\u001b[0mn_fft\u001b[0m \u001b[0;34m//\u001b[0m \u001b[0;36m2\u001b[0m\u001b[0;34m)\u001b[0m\u001b[0;34m\u001b[0m\u001b[0;34m\u001b[0m\u001b[0m\n\u001b[0;32m--> 551\u001b[0;31m         \u001b[0minput\u001b[0m \u001b[0;34m=\u001b[0m \u001b[0mF\u001b[0m\u001b[0;34m.\u001b[0m\u001b[0mpad\u001b[0m\u001b[0;34m(\u001b[0m\u001b[0minput\u001b[0m\u001b[0;34m.\u001b[0m\u001b[0mview\u001b[0m\u001b[0;34m(\u001b[0m\u001b[0mextended_shape\u001b[0m\u001b[0;34m)\u001b[0m\u001b[0;34m,\u001b[0m \u001b[0;34m[\u001b[0m\u001b[0mpad\u001b[0m\u001b[0;34m,\u001b[0m \u001b[0mpad\u001b[0m\u001b[0;34m]\u001b[0m\u001b[0;34m,\u001b[0m \u001b[0mpad_mode\u001b[0m\u001b[0;34m)\u001b[0m\u001b[0;34m\u001b[0m\u001b[0;34m\u001b[0m\u001b[0m\n\u001b[0m\u001b[1;32m    552\u001b[0m         \u001b[0minput\u001b[0m \u001b[0;34m=\u001b[0m \u001b[0minput\u001b[0m\u001b[0;34m.\u001b[0m\u001b[0mview\u001b[0m\u001b[0;34m(\u001b[0m\u001b[0minput\u001b[0m\u001b[0;34m.\u001b[0m\u001b[0mshape\u001b[0m\u001b[0;34m[\u001b[0m\u001b[0;34m-\u001b[0m\u001b[0msignal_dim\u001b[0m\u001b[0;34m:\u001b[0m\u001b[0;34m]\u001b[0m\u001b[0;34m)\u001b[0m\u001b[0;34m\u001b[0m\u001b[0;34m\u001b[0m\u001b[0m\n\u001b[1;32m    553\u001b[0m     return _VF.stft(input, n_fft, hop_length, win_length, window,  # type: ignore[attr-defined]\n",
      "\u001b[0;32m/opt/conda/lib/python3.8/site-packages/torch/nn/functional.py\u001b[0m in \u001b[0;36m_pad\u001b[0;34m(input, pad, mode, value)\u001b[0m\n\u001b[1;32m   4180\u001b[0m         \u001b[0;32mif\u001b[0m \u001b[0mlen\u001b[0m\u001b[0;34m(\u001b[0m\u001b[0mpad\u001b[0m\u001b[0;34m)\u001b[0m \u001b[0;34m==\u001b[0m \u001b[0;36m2\u001b[0m \u001b[0;32mand\u001b[0m \u001b[0;34m(\u001b[0m\u001b[0minput\u001b[0m\u001b[0;34m.\u001b[0m\u001b[0mdim\u001b[0m\u001b[0;34m(\u001b[0m\u001b[0;34m)\u001b[0m \u001b[0;34m==\u001b[0m \u001b[0;36m2\u001b[0m \u001b[0;32mor\u001b[0m \u001b[0minput\u001b[0m\u001b[0;34m.\u001b[0m\u001b[0mdim\u001b[0m\u001b[0;34m(\u001b[0m\u001b[0;34m)\u001b[0m \u001b[0;34m==\u001b[0m \u001b[0;36m3\u001b[0m\u001b[0;34m)\u001b[0m\u001b[0;34m:\u001b[0m\u001b[0;34m\u001b[0m\u001b[0;34m\u001b[0m\u001b[0m\n\u001b[1;32m   4181\u001b[0m             \u001b[0;32mif\u001b[0m \u001b[0mmode\u001b[0m \u001b[0;34m==\u001b[0m \u001b[0;34m\"reflect\"\u001b[0m\u001b[0;34m:\u001b[0m\u001b[0;34m\u001b[0m\u001b[0;34m\u001b[0m\u001b[0m\n\u001b[0;32m-> 4182\u001b[0;31m                 \u001b[0;32mreturn\u001b[0m \u001b[0mtorch\u001b[0m\u001b[0;34m.\u001b[0m\u001b[0m_C\u001b[0m\u001b[0;34m.\u001b[0m\u001b[0m_nn\u001b[0m\u001b[0;34m.\u001b[0m\u001b[0mreflection_pad1d\u001b[0m\u001b[0;34m(\u001b[0m\u001b[0minput\u001b[0m\u001b[0;34m,\u001b[0m \u001b[0mpad\u001b[0m\u001b[0;34m)\u001b[0m\u001b[0;34m\u001b[0m\u001b[0;34m\u001b[0m\u001b[0m\n\u001b[0m\u001b[1;32m   4183\u001b[0m             \u001b[0;32melif\u001b[0m \u001b[0mmode\u001b[0m \u001b[0;34m==\u001b[0m \u001b[0;34m\"replicate\"\u001b[0m\u001b[0;34m:\u001b[0m\u001b[0;34m\u001b[0m\u001b[0;34m\u001b[0m\u001b[0m\n\u001b[1;32m   4184\u001b[0m                 \u001b[0;32mreturn\u001b[0m \u001b[0mtorch\u001b[0m\u001b[0;34m.\u001b[0m\u001b[0m_C\u001b[0m\u001b[0;34m.\u001b[0m\u001b[0m_nn\u001b[0m\u001b[0;34m.\u001b[0m\u001b[0mreplication_pad1d\u001b[0m\u001b[0;34m(\u001b[0m\u001b[0minput\u001b[0m\u001b[0;34m,\u001b[0m \u001b[0mpad\u001b[0m\u001b[0;34m)\u001b[0m\u001b[0;34m\u001b[0m\u001b[0;34m\u001b[0m\u001b[0m\n",
      "\u001b[0;31mRuntimeError\u001b[0m: Argument #4: Padding size should be less than the corresponding input dimension, but got: padding (512, 512) at dimension 2 of input [1, 1, 512]"
     ]
    }
   ],
   "source": [
    "text_to_generate = \"It is well known that deep generative models have a rich latent space\"\n",
    "# text_to_generate = input(\"Input what you want the model to say: \")\n",
    "spec, audio = infer(emodel, spec_gen, vocoder, text_to_generate, speaker_id=0)"
   ]
  },
  {
   "cell_type": "markdown",
   "metadata": {},
   "source": [
    "# Results\n",
    "\n",
    "After our model generates the audio, let's go ahead and play it. We can also visualize the spectrogram that was produced from the first stage model if a spectrogram generator was used."
   ]
  },
  {
   "cell_type": "code",
   "execution_count": 15,
   "metadata": {},
   "outputs": [
    {
     "data": {
      "text/html": [
       "\n",
       "                <audio  controls=\"controls\" >\n",
       "                    <source src=\"data:audio/wav;base64,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\" type=\"audio/wav\" />\n",
       "                    Your browser does not support the audio element.\n",
       "                </audio>\n",
       "              "
      ],
      "text/plain": [
       "<IPython.lib.display.Audio object>"
      ]
     },
     "execution_count": 15,
     "metadata": {},
     "output_type": "execute_result"
    }
   ],
   "source": [
    "import IPython.display as ipd\n",
    "import numpy as np\n",
    "from PIL import Image\n",
    "from matplotlib.pyplot import imshow\n",
    "from matplotlib import pyplot as plt\n",
    "\n",
    "ipd.Audio(audio, rate=22050)"
   ]
  },
  {
   "cell_type": "code",
   "execution_count": null,
   "metadata": {},
   "outputs": [],
   "source": [
    "%matplotlib inline\n",
    "if spec is not None:\n",
    "    imshow(spec, origin=\"lower\")\n",
    "    plt.show()"
   ]
  },
  {
   "cell_type": "code",
   "execution_count": null,
   "metadata": {},
   "outputs": [],
   "source": []
  }
 ],
 "metadata": {
  "interpreter": {
   "hash": "9750c3195c8cb9412c65c8ba8b36c6ba2b82b23ddd61f39d29e01b403b049680"
  },
  "kernelspec": {
   "display_name": "Python 3 (ipykernel flowtron)",
   "language": "python",
   "name": "python3"
  },
  "language_info": {
   "codemirror_mode": {
    "name": "ipython",
    "version": 3
   },
   "file_extension": ".py",
   "mimetype": "text/x-python",
   "name": "python",
   "nbconvert_exporter": "python",
   "pygments_lexer": "ipython3",
   "version": "3.8.12"
  }
 },
 "nbformat": 4,
 "nbformat_minor": 4
}
