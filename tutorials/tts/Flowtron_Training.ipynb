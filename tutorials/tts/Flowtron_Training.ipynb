{
 "cells": [
  {
   "cell_type": "markdown",
   "id": "28381e6e",
   "metadata": {},
   "source": [
    "# Flowtron Training\n",
    "\n",
    "This notebook covers:\n",
    "1. Generate spectrogram from a pre-trained model on NGC (#TODO)\n",
    "2. Training Flowtron with LJSpeech dataset\n",
    "3. ... "
   ]
  },
  {
   "cell_type": "markdown",
   "id": "ee2667a3",
   "metadata": {},
   "source": [
    "## 1. Generate spectrogram from a pre-trained model on NGC"
   ]
  },
  {
   "cell_type": "code",
   "execution_count": null,
   "id": "ff4163dd",
   "metadata": {},
   "outputs": [],
   "source": [
    "#TODO: add a checkpoint to NGC"
   ]
  },
  {
   "cell_type": "markdown",
   "id": "0633d605",
   "metadata": {},
   "source": [
    "## 2. Training Flowtron with LJSpeech dataset"
   ]
  },
  {
   "cell_type": "code",
   "execution_count": null,
   "id": "94aa4ea2",
   "metadata": {},
   "outputs": [],
   "source": [
    "BRANCH = 'main'\n",
    "\n",
    "!wget https://raw.githubusercontent.com/aroraakshit/NeMo/$BRANCH/examples/tts/tacotron2.py\n",
    "    \n"
   ]
  }
 ],
 "metadata": {
  "kernelspec": {
   "display_name": "Python 3 (ipykernel)",
   "language": "python",
   "name": "python3"
  },
  "language_info": {
   "codemirror_mode": {
    "name": "ipython",
    "version": 3
   },
   "file_extension": ".py",
   "mimetype": "text/x-python",
   "name": "python",
   "nbconvert_exporter": "python",
   "pygments_lexer": "ipython3",
   "version": "3.8.12"
  }
 },
 "nbformat": 4,
 "nbformat_minor": 5
}
