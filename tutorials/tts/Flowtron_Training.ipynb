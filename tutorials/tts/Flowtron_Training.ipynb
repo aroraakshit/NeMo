{
 "cells": [
  {
   "cell_type": "markdown",
   "id": "a8cc3a39",
   "metadata": {},
   "source": [
    "# Flowtron Training\n",
    "\n",
    "This notebook covers:\n",
    "1. Generate spectrogram from a pre-trained model on NGC (#TODO)\n",
    "2. Training Flowtron with LJSpeech dataset\n",
    "3. ... "
   ]
  },
  {
   "cell_type": "markdown",
   "id": "4d3f19e4",
   "metadata": {},
   "source": [
    "## 1. Generate spectrogram from a pre-trained model on NGC"
   ]
  },
  {
   "cell_type": "code",
   "execution_count": null,
   "id": "73c7a607",
   "metadata": {},
   "outputs": [],
   "source": [
    "#TODO: add a checkpoint to NGC"
   ]
  },
  {
   "cell_type": "markdown",
   "id": "44c216a2",
   "metadata": {},
   "source": [
    "## 2. Training Flowtron with LJSpeech dataset"
   ]
  },
  {
   "cell_type": "code",
   "execution_count": 6,
   "id": "ad325f84",
   "metadata": {},
   "outputs": [
    {
     "name": "stdout",
     "output_type": "stream",
     "text": [
      "--2022-01-27 23:53:30--  https://raw.githubusercontent.com/aroraakshit/NeMo/main/examples/tts/flowtron.py\n",
      "Resolving raw.githubusercontent.com (raw.githubusercontent.com)... 185.199.108.133, 185.199.109.133, 185.199.110.133, ...\n",
      "Connecting to raw.githubusercontent.com (raw.githubusercontent.com)|185.199.108.133|:443... connected.\n",
      "HTTP request sent, awaiting response... 200 OK\n",
      "Length: 688 [text/plain]\n",
      "Saving to: ‘flowtron.py’\n",
      "\n",
      "flowtron.py         100%[===================>]     688  --.-KB/s    in 0s      \n",
      "\n",
      "2022-01-27 23:53:30 (12.2 MB/s) - ‘flowtron.py’ saved [688/688]\n",
      "\n",
      "--2022-01-27 23:53:31--  https://raw.githubusercontent.com/aroraakshit/NeMo/main/examples/tts/conf/flowtron.yaml\n",
      "Resolving raw.githubusercontent.com (raw.githubusercontent.com)... 185.199.111.133, 185.199.108.133, 185.199.109.133, ...\n",
      "Connecting to raw.githubusercontent.com (raw.githubusercontent.com)|185.199.111.133|:443... connected.\n",
      "HTTP request sent, awaiting response... 200 OK\n",
      "Length: 3558 (3.5K) [text/plain]\n",
      "Saving to: ‘flowtron.yaml’\n",
      "\n",
      "flowtron.yaml       100%[===================>]   3.47K  --.-KB/s    in 0s      \n",
      "\n",
      "2022-01-27 23:53:31 (19.1 MB/s) - ‘flowtron.yaml’ saved [3558/3558]\n",
      "\n"
     ]
    }
   ],
   "source": [
    "BRANCH = 'main'\n",
    "\n",
    "!wget https://raw.githubusercontent.com/aroraakshit/NeMo/$BRANCH/examples/tts/flowtron.py\n",
    "!mkdir conf && cd conf && wget https://raw.githubusercontent.com/aroraakshit/NeMo/$BRANCH/examples/tts/conf/flowtron.yaml && cd .."
   ]
  },
  {
   "cell_type": "code",
   "execution_count": 7,
   "id": "6823fa12",
   "metadata": {},
   "outputs": [],
   "source": [
    "# Downloading LJS dataset\n",
    "# !mkdir data && cd data && wget https://data.keithito.com/data/speech/LJSpeech-1.1.tar.bz2 && tar -xvjf archive.tar.bz2 && cd .."
   ]
  },
  {
   "cell_type": "code",
   "execution_count": 12,
   "id": "601fc5e5",
   "metadata": {},
   "outputs": [
    {
     "name": "stdout",
     "output_type": "stream",
     "text": [
      "NOTE! Installing ujson may make loading annotations faster.\n",
      "################################################################################\n",
      "### WARNING, path does not exist: KALDI_ROOT=/mnt/matylda5/iveselyk/Tools/kaldi-trunk\n",
      "###          (please add 'export KALDI_ROOT=<your_path>' in your $HOME/.profile)\n",
      "###          (or run as: KALDI_ROOT=<your_path> python <your_script>.py)\n",
      "################################################################################\n",
      "\n",
      "[NeMo W 2022-01-28 00:13:09 experimental:27] Module <function get_argmin_mat at 0x7f9d77abd310> is experimental, not ready for production and is not fully supported. Use at your own risk.\n",
      "[NeMo W 2022-01-28 00:13:09 experimental:27] Module <function getMultiScaleCosAffinityMatrix at 0x7f9d77abd3a0> is experimental, not ready for production and is not fully supported. Use at your own risk.\n",
      "[NeMo W 2022-01-28 00:13:09 experimental:27] Module <function parse_scale_configs at 0x7f9d77abddc0> is experimental, not ready for production and is not fully supported. Use at your own risk.\n",
      "[NeMo W 2022-01-28 00:13:09 experimental:27] Module <function get_embs_and_timestamps at 0x7f9d77abde50> is experimental, not ready for production and is not fully supported. Use at your own risk.\n",
      "[NeMo W 2022-01-28 00:13:09 nemo_logging:349] /akshita/NeMo/nemo/collections/tts/helpers/text/__init__.py:77: SyntaxWarning: \"is not\" with a literal. Did you mean \"!=\"?\n",
      "      return s in _symbol_to_id and s is not '_' and s is not '~'\n",
      "    \n",
      "[NeMo W 2022-01-28 00:13:09 nemo_logging:349] /akshita/NeMo/nemo/collections/tts/helpers/text/__init__.py:77: SyntaxWarning: \"is not\" with a literal. Did you mean \"!=\"?\n",
      "      return s in _symbol_to_id and s is not '_' and s is not '~'\n",
      "    \n",
      "Traceback (most recent call last):\n",
      "  File \"flowtron.py\", line 4, in <module>\n",
      "    from nemo.collections.tts.models import Flowtron\n",
      "  File \"/akshita/NeMo/nemo/collections/tts/__init__.py\", line 15, in <module>\n",
      "    import nemo.collections.tts.data\n",
      "  File \"/akshita/NeMo/nemo/collections/tts/data/__init__.py\", line 15, in <module>\n",
      "    import nemo.collections.tts.data.datalayers\n",
      "  File \"/akshita/NeMo/nemo/collections/tts/data/datalayers.py\", line 64, in <module>\n",
      "    from nemo.collections.tts.helpers.helpers import dynamic_range_compression, dynamic_range_decompression, window_sumsquare\n",
      "  File \"/akshita/NeMo/nemo/collections/tts/helpers/__init__.py\", line 16, in <module>\n",
      "    import nemo.collections.tts.helpers.text\n",
      "  File \"/akshita/NeMo/nemo/collections/tts/helpers/text/__init__.py\", line 3, in <module>\n",
      "    from text import cleaners\n",
      "ModuleNotFoundError: No module named 'text'\n"
     ]
    }
   ],
   "source": [
    "# sample run to test flowtron\n",
    "\n",
    "!PYTHONPATH=/akshita/NeMo python flowtron.py train_dataset=\"/akshita/flowtron/filelists/ljs_audiopaths_text_sid_100train_filelist.txt\" validation_dataset=\"/akshita/flowtron/filelists/ljs_audiopaths_text_sid_10val_filelist.txt\" trainer.max_epochs=5 trainer.check_val_every_n_epoch=1 trainer.flush_logs_every_n_steps=1\n"
   ]
  },
  {
   "cell_type": "code",
   "execution_count": null,
   "id": "cdbe0120",
   "metadata": {},
   "outputs": [],
   "source": [
    "# full run\n",
    "\n",
    "!python flowtron.py \n"
   ]
  }
 ],
 "metadata": {
  "kernelspec": {
   "display_name": "Python 3 (ipykernel)",
   "language": "python",
   "name": "python3"
  },
  "language_info": {
   "codemirror_mode": {
    "name": "ipython",
    "version": 3
   },
   "file_extension": ".py",
   "mimetype": "text/x-python",
   "name": "python",
   "nbconvert_exporter": "python",
   "pygments_lexer": "ipython3",
   "version": "3.8.12"
  }
 },
 "nbformat": 4,
 "nbformat_minor": 5
}
